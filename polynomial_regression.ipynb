{
  "nbformat": 4,
  "nbformat_minor": 0,
  "metadata": {
    "colab": {
      "provenance": [],
      "collapsed_sections": [],
      "include_colab_link": true
    },
    "kernelspec": {
      "name": "python3",
      "display_name": "Python 3"
    }
  },
  "cells": [
    {
      "cell_type": "markdown",
      "metadata": {
        "id": "view-in-github",
        "colab_type": "text"
      },
      "source": [
        "<a href=\"https://colab.research.google.com/github/BUN-Nakai/MachineLearningAlgorithm/blob/main/polynomial_regression.ipynb\" target=\"_parent\"><img src=\"https://colab.research.google.com/assets/colab-badge.svg\" alt=\"Open In Colab\"/></a>"
      ]
    },
    {
      "cell_type": "markdown",
      "metadata": {
        "id": "vN99YjPTDena"
      },
      "source": [
        "# 多項式回帰"
      ]
    },
    {
      "cell_type": "markdown",
      "metadata": {
        "id": "ZIx_naXnDyHd"
      },
      "source": [
        "## ライブラリのインポート"
      ]
    },
    {
      "cell_type": "code",
      "metadata": {
        "id": "FjnmdyPLD2tS"
      },
      "source": [
        "import numpy as np\n",
        "import matplotlib.pyplot as plt\n",
        "import pandas as pd"
      ],
      "execution_count": 1,
      "outputs": []
    },
    {
      "cell_type": "markdown",
      "metadata": {
        "id": "6c8YExmOD5x5"
      },
      "source": [
        "## データセットのインポート"
      ]
    },
    {
      "cell_type": "code",
      "metadata": {
        "id": "nQOdXhjXD_AE"
      },
      "source": [
        "dataset = pd.read_csv('Position_Salaries.csv')\n",
        "# Positionは多重共線性より不要（Levelがあればよいため）\n",
        "X = dataset.iloc[:, 1:-1].values\n",
        "y = dataset.iloc[:, -1].values"
      ],
      "execution_count": 2,
      "outputs": []
    },
    {
      "cell_type": "code",
      "source": [
        "X"
      ],
      "metadata": {
        "colab": {
          "base_uri": "https://localhost:8080/"
        },
        "id": "skCiOrS8E_3l",
        "outputId": "833be31b-d52e-4c74-8913-057864de654f"
      },
      "execution_count": 3,
      "outputs": [
        {
          "output_type": "execute_result",
          "data": {
            "text/plain": [
              "array([[ 1],\n",
              "       [ 2],\n",
              "       [ 3],\n",
              "       [ 4],\n",
              "       [ 5],\n",
              "       [ 6],\n",
              "       [ 7],\n",
              "       [ 8],\n",
              "       [ 9],\n",
              "       [10]])"
            ]
          },
          "metadata": {},
          "execution_count": 3
        }
      ]
    },
    {
      "cell_type": "code",
      "source": [
        "# こうしてしまうと2DArrayにならないので、上記の記載が必要となる\n",
        "X_2 = dataset.iloc[:,1].values\n",
        "X_2"
      ],
      "metadata": {
        "colab": {
          "base_uri": "https://localhost:8080/"
        },
        "id": "JG9k0YHCFHTH",
        "outputId": "1a3b660a-da07-49d6-b50f-9843ea6b1bff"
      },
      "execution_count": 4,
      "outputs": [
        {
          "output_type": "execute_result",
          "data": {
            "text/plain": [
              "array([ 1,  2,  3,  4,  5,  6,  7,  8,  9, 10])"
            ]
          },
          "metadata": {},
          "execution_count": 4
        }
      ]
    },
    {
      "cell_type": "markdown",
      "source": [],
      "metadata": {
        "id": "lvxiOpgYF5_6"
      }
    },
    {
      "cell_type": "code",
      "source": [
        "# yは2DArrayの必要がない\n",
        "y"
      ],
      "metadata": {
        "colab": {
          "base_uri": "https://localhost:8080/"
        },
        "id": "Zq4zRzy0FUDm",
        "outputId": "f0f190a9-d9ad-497c-eb77-dce6a6731803"
      },
      "execution_count": 5,
      "outputs": [
        {
          "output_type": "execute_result",
          "data": {
            "text/plain": [
              "array([  45000,   50000,   60000,   80000,  110000,  150000,  200000,\n",
              "        300000,  500000, 1000000])"
            ]
          },
          "metadata": {},
          "execution_count": 5
        }
      ]
    },
    {
      "cell_type": "markdown",
      "metadata": {
        "id": "Le8SEL-YEOLb"
      },
      "source": [
        "## データセットを使った線形回帰モデルの訓練"
      ]
    },
    {
      "cell_type": "code",
      "source": [
        "from sklearn.linear_model import LinearRegression as LR\n",
        "lr = LR()\n",
        "lr.fit(X,y)"
      ],
      "metadata": {
        "colab": {
          "base_uri": "https://localhost:8080/"
        },
        "id": "OExC5rKcEk2y",
        "outputId": "e71a9d60-0f7a-4a7c-9f19-dc07b9228254"
      },
      "execution_count": 6,
      "outputs": [
        {
          "output_type": "execute_result",
          "data": {
            "text/plain": [
              "LinearRegression()"
            ]
          },
          "metadata": {},
          "execution_count": 6
        }
      ]
    },
    {
      "cell_type": "markdown",
      "metadata": {
        "id": "Rb5nWuSHEfBV"
      },
      "source": [
        "## データセットを使った多項式回帰モデルの訓練"
      ]
    },
    {
      "cell_type": "code",
      "source": [
        "from sklearn.preprocessing import PolynomialFeatures\n",
        "# degree=は次元を指定する、今回は2次元\n",
        "poly_reg = PolynomialFeatures(degree=2)\n",
        "# 多項式回帰モデルの為にデータを変換\n",
        "X_poly = poly_reg.fit_transform(X) \n",
        "X_poly"
      ],
      "metadata": {
        "colab": {
          "base_uri": "https://localhost:8080/"
        },
        "id": "V2iskRt7Furm",
        "outputId": "5f5f13be-8ef1-4e06-c92f-7203346c18c0"
      },
      "execution_count": 8,
      "outputs": [
        {
          "output_type": "execute_result",
          "data": {
            "text/plain": [
              "array([[  1.,   1.,   1.],\n",
              "       [  1.,   2.,   4.],\n",
              "       [  1.,   3.,   9.],\n",
              "       [  1.,   4.,  16.],\n",
              "       [  1.,   5.,  25.],\n",
              "       [  1.,   6.,  36.],\n",
              "       [  1.,   7.,  49.],\n",
              "       [  1.,   8.,  64.],\n",
              "       [  1.,   9.,  81.],\n",
              "       [  1.,  10., 100.]])"
            ]
          },
          "metadata": {},
          "execution_count": 8
        }
      ]
    },
    {
      "cell_type": "code",
      "source": [
        "lr2 = LR()\n",
        "lr2.fit(X_poly, y)"
      ],
      "metadata": {
        "colab": {
          "base_uri": "https://localhost:8080/"
        },
        "id": "V72Vp1_YG8ga",
        "outputId": "0f89fc9d-57bc-4528-a3b3-450fee22c83a"
      },
      "execution_count": 9,
      "outputs": [
        {
          "output_type": "execute_result",
          "data": {
            "text/plain": [
              "LinearRegression()"
            ]
          },
          "metadata": {},
          "execution_count": 9
        }
      ]
    },
    {
      "cell_type": "markdown",
      "metadata": {
        "id": "0O8R0tzbEpvy"
      },
      "source": [
        "## 結果の可視化（線形回帰）"
      ]
    },
    {
      "cell_type": "code",
      "source": [
        "plt.scatter(X, y, color=\"red\")\n",
        "# 線形回帰\n",
        "plt.plot(X, lr.predict(X), color=\"blue\")\n",
        "# タイトル\n",
        "plt.title(\"title\")\n",
        "# Xラベル\n",
        "plt.xlabel(\"position\")"
      ],
      "metadata": {
        "colab": {
          "base_uri": "https://localhost:8080/",
          "height": 312
        },
        "id": "QEK6cZYcHKvh",
        "outputId": "ff48f524-f88a-4d64-b898-c5ba91b3c578"
      },
      "execution_count": 12,
      "outputs": [
        {
          "output_type": "execute_result",
          "data": {
            "text/plain": [
              "Text(0.5, 0, 'position')"
            ]
          },
          "metadata": {},
          "execution_count": 12
        },
        {
          "output_type": "display_data",
          "data": {
            "text/plain": [
              "<Figure size 432x288 with 1 Axes>"
            ],
            "image/png": "[encoded data removed]"
          },
          "metadata": {
            "needs_background": "light"
          }
        }
      ]
    },
    {
      "cell_type": "markdown",
      "metadata": {
        "id": "stOnSo74E52m"
      },
      "source": [
        "## 結果の可視化（多項式回帰）"
      ]
    },
    {
      "cell_type": "code",
      "source": [
        "plt.scatter(X, y, color=\"red\")\n",
        "# 多項式回帰\n",
        "plt.plot(X, lr2.predict(X_poly), color=\"blue\")"
      ],
      "metadata": {
        "colab": {
          "base_uri": "https://localhost:8080/",
          "height": 293
        },
        "id": "JxnjazaXHqZR",
        "outputId": "cacc04d0-1aaf-415f-d03f-9a56047e8a66"
      },
      "execution_count": 13,
      "outputs": [
        {
          "output_type": "execute_result",
          "data": {
            "text/plain": [
              "[<matplotlib.lines.Line2D at 0x7fd2694d7650>]"
            ]
          },
          "metadata": {},
          "execution_count": 13
        },
        {
          "output_type": "display_data",
          "data": {
            "text/plain": [
              "<Figure size 432x288 with 1 Axes>"
            ],
            "image/png": "[encoded data removed]"
          },
          "metadata": {
            "needs_background": "light"
          }
        }
      ]
    },
    {
      "cell_type": "markdown",
      "metadata": {
        "id": "U_qsAMKnE-PJ"
      },
      "source": [
        "## 結果の可視化（多項式回帰、より滑らかなカーブ）"
      ]
    },
    {
      "cell_type": "code",
      "source": [
        "# 0.1刻みで最小値から最大値まで\n",
        "X_grid = np.arange(min(X), max(X), 0.1)\n",
        "# 中身は1次元配列（ベクトル）\n",
        "X_grid"
      ],
      "metadata": {
        "colab": {
          "base_uri": "https://localhost:8080/"
        },
        "id": "wwj5wlE_IK6a",
        "outputId": "ebad829d-1783-462b-b0d6-0dba4d75a15d"
      },
      "execution_count": 15,
      "outputs": [
        {
          "output_type": "execute_result",
          "data": {
            "text/plain": [
              "array([1. , 1.1, 1.2, 1.3, 1.4, 1.5, 1.6, 1.7, 1.8, 1.9, 2. , 2.1, 2.2,\n",
              "       2.3, 2.4, 2.5, 2.6, 2.7, 2.8, 2.9, 3. , 3.1, 3.2, 3.3, 3.4, 3.5,\n",
              "       3.6, 3.7, 3.8, 3.9, 4. , 4.1, 4.2, 4.3, 4.4, 4.5, 4.6, 4.7, 4.8,\n",
              "       4.9, 5. , 5.1, 5.2, 5.3, 5.4, 5.5, 5.6, 5.7, 5.8, 5.9, 6. , 6.1,\n",
              "       6.2, 6.3, 6.4, 6.5, 6.6, 6.7, 6.8, 6.9, 7. , 7.1, 7.2, 7.3, 7.4,\n",
              "       7.5, 7.6, 7.7, 7.8, 7.9, 8. , 8.1, 8.2, 8.3, 8.4, 8.5, 8.6, 8.7,\n",
              "       8.8, 8.9, 9. , 9.1, 9.2, 9.3, 9.4, 9.5, 9.6, 9.7, 9.8, 9.9])"
            ]
          },
          "metadata": {},
          "execution_count": 15
        }
      ]
    },
    {
      "cell_type": "code",
      "source": [
        "# ベクトルから2DArrayに変換\n",
        "X_grid = X_grid.reshape(len(X_grid), 1)\n",
        "X_grid"
      ],
      "metadata": {
        "colab": {
          "base_uri": "https://localhost:8080/"
        },
        "id": "L9lA4pqZI7Ka",
        "outputId": "5c5d622d-b443-46be-d258-372f7940af6e"
      },
      "execution_count": 16,
      "outputs": [
        {
          "output_type": "execute_result",
          "data": {
            "text/plain": [
              "array([[1. ],\n",
              "       [1.1],\n",
              "       [1.2],\n",
              "       [1.3],\n",
              "       [1.4],\n",
              "       [1.5],\n",
              "       [1.6],\n",
              "       [1.7],\n",
              "       [1.8],\n",
              "       [1.9],\n",
              "       [2. ],\n",
              "       [2.1],\n",
              "       [2.2],\n",
              "       [2.3],\n",
              "       [2.4],\n",
              "       [2.5],\n",
              "       [2.6],\n",
              "       [2.7],\n",
              "       [2.8],\n",
              "       [2.9],\n",
              "       [3. ],\n",
              "       [3.1],\n",
              "       [3.2],\n",
              "       [3.3],\n",
              "       [3.4],\n",
              "       [3.5],\n",
              "       [3.6],\n",
              "       [3.7],\n",
              "       [3.8],\n",
              "       [3.9],\n",
              "       [4. ],\n",
              "       [4.1],\n",
              "       [4.2],\n",
              "       [4.3],\n",
              "       [4.4],\n",
              "       [4.5],\n",
              "       [4.6],\n",
              "       [4.7],\n",
              "       [4.8],\n",
              "       [4.9],\n",
              "       [5. ],\n",
              "       [5.1],\n",
              "       [5.2],\n",
              "       [5.3],\n",
              "       [5.4],\n",
              "       [5.5],\n",
              "       [5.6],\n",
              "       [5.7],\n",
              "       [5.8],\n",
              "       [5.9],\n",
              "       [6. ],\n",
              "       [6.1],\n",
              "       [6.2],\n",
              "       [6.3],\n",
              "       [6.4],\n",
              "       [6.5],\n",
              "       [6.6],\n",
              "       [6.7],\n",
              "       [6.8],\n",
              "       [6.9],\n",
              "       [7. ],\n",
              "       [7.1],\n",
              "       [7.2],\n",
              "       [7.3],\n",
              "       [7.4],\n",
              "       [7.5],\n",
              "       [7.6],\n",
              "       [7.7],\n",
              "       [7.8],\n",
              "       [7.9],\n",
              "       [8. ],\n",
              "       [8.1],\n",
              "       [8.2],\n",
              "       [8.3],\n",
              "       [8.4],\n",
              "       [8.5],\n",
              "       [8.6],\n",
              "       [8.7],\n",
              "       [8.8],\n",
              "       [8.9],\n",
              "       [9. ],\n",
              "       [9.1],\n",
              "       [9.2],\n",
              "       [9.3],\n",
              "       [9.4],\n",
              "       [9.5],\n",
              "       [9.6],\n",
              "       [9.7],\n",
              "       [9.8],\n",
              "       [9.9]])"
            ]
          },
          "metadata": {},
          "execution_count": 16
        }
      ]
    },
    {
      "cell_type": "code",
      "source": [
        "# 散布図  \n",
        "plt.scatter(X, y, color=\"red\")\n",
        "# 線グラフ\n",
        "# yは、細かくしたXに合わせて再度作成しなおしたモデルで描画する\n",
        "plt.plot(X_grid, lr2.predict(poly_reg.fit_transform(X_grid)), color=\"blue\")"
      ],
      "metadata": {
        "colab": {
          "base_uri": "https://localhost:8080/",
          "height": 293
        },
        "id": "Au6YvknLJJqE",
        "outputId": "7919d445-6f94-4aa0-c049-144369c13ad7"
      },
      "execution_count": 17,
      "outputs": [
        {
          "output_type": "execute_result",
          "data": {
            "text/plain": [
              "[<matplotlib.lines.Line2D at 0x7fd269424d10>]"
            ]
          },
          "metadata": {},
          "execution_count": 17
        },
        {
          "output_type": "display_data",
          "data": {
            "text/plain": [
              "<Figure size 432x288 with 1 Axes>"
            ],
            "image/png": "[encoded data removed]"
          },
          "metadata": {
            "needs_background": "light"
          }
        }
      ]
    },
    {
      "cell_type": "markdown",
      "metadata": {
        "id": "diyJFZHhFFeK"
      },
      "source": [
        "## 線形回帰モデルによる予測\n",
        "\n",
        "\n"
      ]
    },
    {
      "cell_type": "code",
      "source": [
        "# Level6.5あたりの年収\n",
        "lr.predict([[6.5]])"
      ],
      "metadata": {
        "colab": {
          "base_uri": "https://localhost:8080/"
        },
        "id": "oBXVEC_HKJDn",
        "outputId": "9ace573a-0b64-453b-a00b-5244b1d33267"
      },
      "execution_count": 18,
      "outputs": [
        {
          "output_type": "execute_result",
          "data": {
            "text/plain": [
              "array([330378.78787879])"
            ]
          },
          "metadata": {},
          "execution_count": 18
        }
      ]
    },
    {
      "cell_type": "markdown",
      "metadata": {
        "id": "DW7I7ZVDFNkk"
      },
      "source": [
        "## 多項式回帰モデルによる予測"
      ]
    },
    {
      "cell_type": "code",
      "source": [
        "# Level6.5あたりの年収\n",
        "lr2.predict(poly_reg.fit_transform([[6.5]]))"
      ],
      "metadata": {
        "colab": {
          "base_uri": "https://localhost:8080/"
        },
        "id": "t45dJds6KaD3",
        "outputId": "7cece4c2-ece7-49e7-d739-2a794f8312e0"
      },
      "execution_count": 19,
      "outputs": [
        {
          "output_type": "execute_result",
          "data": {
            "text/plain": [
              "array([189498.10606061])"
            ]
          },
          "metadata": {},
          "execution_count": 19
        }
      ]
    }
  ]
}