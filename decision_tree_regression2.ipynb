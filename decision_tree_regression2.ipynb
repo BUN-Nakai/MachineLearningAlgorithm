{
  "nbformat": 4,
  "nbformat_minor": 0,
  "metadata": {
    "colab": {
      "provenance": [],
      "collapsed_sections": [],
      "include_colab_link": true
    },
    "kernelspec": {
      "name": "python3",
      "display_name": "Python 3"
    }
  },
  "cells": [
    {
      "cell_type": "markdown",
      "metadata": {
        "id": "view-in-github",
        "colab_type": "text"
      },
      "source": [
        "<a href=\"https://colab.research.google.com/github/BUN-Nakai/MachineLearningAlgorithm/blob/main/decision_tree_regression2.ipynb\" target=\"_parent\"><img src=\"https://colab.research.google.com/assets/colab-badge.svg\" alt=\"Open In Colab\"/></a>"
      ]
    },
    {
      "cell_type": "markdown",
      "metadata": {
        "id": "r3cas2_1T98w"
      },
      "source": [
        "# 回帰木"
      ]
    },
    {
      "cell_type": "markdown",
      "metadata": {
        "id": "IODliia6U1xO"
      },
      "source": [
        "## ライブラリのインポート"
      ]
    },
    {
      "cell_type": "code",
      "metadata": {
        "id": "y98nA5UdU6Hf"
      },
      "source": [
        "import numpy as np\n",
        "import matplotlib.pyplot as plt\n",
        "import pandas as pd"
      ],
      "execution_count": 8,
      "outputs": []
    },
    {
      "cell_type": "markdown",
      "metadata": {
        "id": "jpjZ43YlU8eI"
      },
      "source": [
        "## データセットのインポート"
      ]
    },
    {
      "cell_type": "code",
      "metadata": {
        "id": "pLVaXoYVU_Uy"
      },
      "source": [
        "dataset = pd.read_csv('batters.csv')\n",
        "X = dataset.iloc[:, :-1].values\n",
        "y = dataset.iloc[:, -1].values"
      ],
      "execution_count": 9,
      "outputs": []
    },
    {
      "cell_type": "code",
      "source": [
        "X"
      ],
      "metadata": {
        "colab": {
          "base_uri": "https://localhost:8080/"
        },
        "id": "bVQ2johnBgB0",
        "outputId": "c2c87ec3-6aac-467d-c82d-bc536ca1ce04"
      },
      "execution_count": 10,
      "outputs": [
        {
          "output_type": "execute_result",
          "data": {
            "text/plain": [
              "array([[ 0.25,  2.  ],\n",
              "       [ 0.28, 10.  ],\n",
              "       [ 0.28,  1.  ],\n",
              "       [ 0.23,  4.  ],\n",
              "       [ 0.24,  8.  ],\n",
              "       [ 0.29,  7.  ],\n",
              "       [ 0.3 , 12.  ],\n",
              "       [ 0.22,  3.  ],\n",
              "       [ 0.24,  6.  ]])"
            ]
          },
          "metadata": {},
          "execution_count": 10
        }
      ]
    },
    {
      "cell_type": "markdown",
      "metadata": {
        "id": "g16qFkFQVC35"
      },
      "source": [
        "## データセットの訓練"
      ]
    },
    {
      "cell_type": "code",
      "metadata": {
        "id": "SLDKyv1SVUqS",
        "colab": {
          "base_uri": "https://localhost:8080/"
        },
        "outputId": "2f7b89ff-137d-473e-e852-44cff4b6fa29"
      },
      "source": [
        "from sklearn.tree import DecisionTreeRegressor\n",
        "regressor = DecisionTreeRegressor(random_state = 0, max_depth=5)\n",
        "regressor.fit(X, y)"
      ],
      "execution_count": 11,
      "outputs": [
        {
          "output_type": "execute_result",
          "data": {
            "text/plain": [
              "DecisionTreeRegressor(max_depth=5, random_state=0)"
            ]
          },
          "metadata": {},
          "execution_count": 11
        }
      ]
    },
    {
      "cell_type": "markdown",
      "metadata": {
        "id": "MQRGPTH3VcOn"
      },
      "source": [
        "## Predicting a new result"
      ]
    },
    {
      "cell_type": "code",
      "metadata": {
        "id": "iqeMKRirEGW9",
        "colab": {
          "base_uri": "https://localhost:8080/"
        },
        "outputId": "d0d795c6-3236-4f17-af0e-03673a0cea7a"
      },
      "source": [
        "list=np.empty((10,9))\n",
        "for i in range(10):\n",
        "  for j in range(9):\n",
        "    list[i][j]=regressor.predict([[0.5-i*0.05,j]])\n",
        "list"
      ],
      "execution_count": 12,
      "outputs": [
        {
          "output_type": "execute_result",
          "data": {
            "text/plain": [
              "array([[900., 900., 900., 900., 900., 900., 900., 900., 900.],\n",
              "       [900., 900., 900., 900., 900., 900., 900., 900., 900.],\n",
              "       [900., 900., 900., 900., 900., 900., 900., 900., 900.],\n",
              "       [900., 900., 900., 900., 900., 900., 900., 900., 900.],\n",
              "       [900., 900., 900., 900., 900., 900., 900., 900., 900.],\n",
              "       [ 55.,  55.,  55.,  55.,  55.,  55., 130., 130., 120.],\n",
              "       [100., 100., 100., 100., 100., 100., 130., 130., 120.],\n",
              "       [100., 100., 100., 100., 100., 100., 130., 130., 120.],\n",
              "       [100., 100., 100., 100., 100., 100., 130., 130., 120.],\n",
              "       [100., 100., 100., 100., 100., 100., 130., 130., 120.]])"
            ]
          },
          "metadata": {},
          "execution_count": 12
        }
      ]
    },
    {
      "cell_type": "code",
      "source": [],
      "metadata": {
        "id": "aXIdmGMBBTtS"
      },
      "execution_count": 12,
      "outputs": []
    }
  ]
}