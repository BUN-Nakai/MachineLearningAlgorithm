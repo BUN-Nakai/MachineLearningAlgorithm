{
  "nbformat": 4,
  "nbformat_minor": 0,
  "metadata": {
    "colab": {
      "provenance": [],
      "collapsed_sections": [],
      "include_colab_link": true
    },
    "kernelspec": {
      "name": "python3",
      "display_name": "Python 3"
    }
  },
  "cells": [
    {
      "cell_type": "markdown",
      "metadata": {
        "id": "view-in-github",
        "colab_type": "text"
      },
      "source": [
        "<a href=\"https://colab.research.google.com/github/BUN-Nakai/MachineLearningAlgorithm/blob/main/multiple_linear_regression.ipynb\" target=\"_parent\"><img src=\"https://colab.research.google.com/assets/colab-badge.svg\" alt=\"Open In Colab\"/></a>"
      ]
    },
    {
      "cell_type": "markdown",
      "metadata": {
        "id": "CazISR8X_HUG"
      },
      "source": [
        "# 重回帰分析\n",
        "\n"
      ]
    },
    {
      "cell_type": "markdown",
      "source": [
        "### 線形回帰の前提\n",
        "1. 線形性\n",
        "2. 内生性がない\n",
        "3. 正規性と同分散性\n",
        "4. 自己相関がない\n",
        "5. 多重共線性がない\n"
      ],
      "metadata": {
        "id": "EeCxDswVNKdr"
      }
    },
    {
      "cell_type": "markdown",
      "source": [
        "### ダミー変数トラップ\n",
        "多重共線性が発生してしまう → 他の変数で説明できてしまう<br>\n",
        "例 : a+b+c=1 → a=1-b-c\n",
        "\n",
        "他の変数をほかの変数で説明できる場合は、片方を削除する必要がある"
      ],
      "metadata": {
        "id": "POtKWYLaTrSG"
      }
    },
    {
      "cell_type": "markdown",
      "source": [
        "### P値\n",
        "ある事象が起こる確率\n",
        "\n",
        "仮説：コインが歪ではない（表：0.5 裏：0.5）\n",
        "\n",
        "裏が出続ける確率<br>\n",
        "1回目: 0.5<br>\n",
        "2回目: 0.25<br>\n",
        "3回目: 0.125<br>\n",
        "4回目: 0.06<br>\n",
        "5回目: 0.03<br>\n",
        "6回目: 0.01<br>\n",
        "→この仮説は正しくない可能性がある<br>\n",
        "\n",
        "確率のことがP値<br>\n",
        "一般的にP値が0.05以下の場合は、この仮説を棄却する<br>\n",
        "\n",
        "<b>線形回帰では、係数の値が0である事を仮説とする</b><br>\n",
        "→その値が0.05以下ならそのその仮説を棄却する<br>\n",
        "→つまり、その係数は0ではない<br>\n",
        "<b>→回帰を行う為の重要な係数である</b><br>"
      ],
      "metadata": {
        "id": "ka-fFED-U7Dw"
      }
    },
    {
      "cell_type": "markdown",
      "source": [
        "### 変数の抽出の必要性\n",
        "1. モデルをシンプルにするため\n",
        "2. 定性的に評価を行えるようにするため\n",
        "\n",
        "### 抽出の方法\n",
        "**1. All-in**<br>\n",
        "全ての変数を入れてモデルを作成<br>\n",
        "事前の情報がない場合<br>\n",
        "\n",
        "**2. Backward Elimination(変数減少法**）<br>\n",
        "Step1. モデルをそとのままにするため、有意水準(一般的に0.05)を決める<br>\n",
        "Step2. すべての独立変数を使ってモデルを作成する<br>\n",
        "Step3. p値が最も大きい独立変数を見つけ、そのp値が有意水準よりも大きければ、Step4へ<br>\n",
        "小さければモデル完成<br>\n",
        "Step4. その独立変数を取り除く<br>\n",
        "Step5. 取り除いたうえで改めてモデルを作成する\n",
        "\n",
        "**3. Forward Selection(変数増加法)**<br>\n",
        "Step1. モデルにその変数を入れる為の閾値として有意水準を決める<br>\n",
        "Step2. すべての独立変数において、最もp値が低い変数を求める<br>\n",
        "Step3. その変数を追加したうえで改めてどれぞれの独立変数においてモデルを作成する<br>\n",
        "Step4. その中でp値が最も低い独立変数を見つけ、その値が有意水準よりも小さければモデルにその変数を入れ、それがなければモデルを完成させる<br>\n",
        "\n",
        "**4. Bidirectional elimination(変数増減法)**<br>\n",
        "Step1. モデルにその変数を入れる・取り除くための閾値としての有意水準を決める\n",
        "Step2. Forward Selectionを行う<br>\n",
        "Step3. Backward Eliminationを行う<br>\n",
        "Step4. 取り除く、もしくは追加する変数がなくなった時点でモデルを完成させる<br>\n",
        "\n",
        "**5. All Possible Models**<br>\n",
        "Step1. モデルの当てはまりの良さを評価する為の基準を選択する（赤池情報量基準など）<br>\n",
        "Step2. すべての取りえる変数において回帰モデルを作成する<br>\n",
        "Step3. 最もスコアが高いモデルを採用する<br>\n",
        "\n",
        "※ *変数が多い場合、演算負荷が高くなる*\n"
      ],
      "metadata": {
        "id": "iHnZcw8zZ6Dr"
      }
    },
    {
      "cell_type": "markdown",
      "metadata": {
        "id": "pOyqYHTk_Q57"
      },
      "source": [
        "## ライブラリのインポート"
      ]
    },
    {
      "cell_type": "code",
      "metadata": {
        "id": "T_YHJjnD_Tja"
      },
      "source": [
        "import numpy as np\n",
        "import matplotlib.pyplot as plt\n",
        "import pandas as pd"
      ],
      "execution_count": 2,
      "outputs": []
    },
    {
      "cell_type": "markdown",
      "metadata": {
        "id": "vgC61-ah_WIz"
      },
      "source": [
        "## データセットのインポート"
      ]
    },
    {
      "cell_type": "code",
      "metadata": {
        "id": "UrxyEKGn_ez7"
      },
      "source": [
        "dataset = pd.read_csv('50_Startups.csv')\n",
        "X = dataset.iloc[:, :-1].values\n",
        "y = dataset.iloc[:, -1].values"
      ],
      "execution_count": 3,
      "outputs": []
    },
    {
      "cell_type": "code",
      "source": [
        "X"
      ],
      "metadata": {
        "colab": {
          "base_uri": "https://localhost:8080/"
        },
        "id": "iJC6SPupgh4r",
        "outputId": "79fb5f6b-bc87-4ecc-b9ef-b574d6d51de3"
      },
      "execution_count": 4,
      "outputs": [
        {
          "output_type": "execute_result",
          "data": {
            "text/plain": [
              "array([[165349.2, 136897.8, 471784.1, 'New York'],\n",
              "       [162597.7, 151377.59, 443898.53, 'California'],\n",
              "       [153441.51, 101145.55, 407934.54, 'Florida'],\n",
              "       [144372.41, 118671.85, 383199.62, 'New York'],\n",
              "       [142107.34, 91391.77, 366168.42, 'Florida'],\n",
              "       [131876.9, 99814.71, 362861.36, 'New York'],\n",
              "       [134615.46, 147198.87, 127716.82, 'California'],\n",
              "       [130298.13, 145530.06, 323876.68, 'Florida'],\n",
              "       [120542.52, 148718.95, 311613.29, 'New York'],\n",
              "       [123334.88, 108679.17, 304981.62, 'California'],\n",
              "       [101913.08, 110594.11, 229160.95, 'Florida'],\n",
              "       [100671.96, 91790.61, 249744.55, 'California'],\n",
              "       [93863.75, 127320.38, 249839.44, 'Florida'],\n",
              "       [91992.39, 135495.07, 252664.93, 'California'],\n",
              "       [119943.24, 156547.42, 256512.92, 'Florida'],\n",
              "       [114523.61, 122616.84, 261776.23, 'New York'],\n",
              "       [78013.11, 121597.55, 264346.06, 'California'],\n",
              "       [94657.16, 145077.58, 282574.31, 'New York'],\n",
              "       [91749.16, 114175.79, 294919.57, 'Florida'],\n",
              "       [86419.7, 153514.11, 0.0, 'New York'],\n",
              "       [76253.86, 113867.3, 298664.47, 'California'],\n",
              "       [78389.47, 153773.43, 299737.29, 'New York'],\n",
              "       [73994.56, 122782.75, 303319.26, 'Florida'],\n",
              "       [67532.53, 105751.03, 304768.73, 'Florida'],\n",
              "       [77044.01, 99281.34, 140574.81, 'New York'],\n",
              "       [64664.71, 139553.16, 137962.62, 'California'],\n",
              "       [75328.87, 144135.98, 134050.07, 'Florida'],\n",
              "       [72107.6, 127864.55, 353183.81, 'New York'],\n",
              "       [66051.52, 182645.56, 118148.2, 'Florida'],\n",
              "       [65605.48, 153032.06, 107138.38, 'New York'],\n",
              "       [61994.48, 115641.28, 91131.24, 'Florida'],\n",
              "       [61136.38, 152701.92, 88218.23, 'New York'],\n",
              "       [63408.86, 129219.61, 46085.25, 'California'],\n",
              "       [55493.95, 103057.49, 214634.81, 'Florida'],\n",
              "       [46426.07, 157693.92, 210797.67, 'California'],\n",
              "       [46014.02, 85047.44, 205517.64, 'New York'],\n",
              "       [28663.76, 127056.21, 201126.82, 'Florida'],\n",
              "       [44069.95, 51283.14, 197029.42, 'California'],\n",
              "       [20229.59, 65947.93, 185265.1, 'New York'],\n",
              "       [38558.51, 82982.09, 174999.3, 'California'],\n",
              "       [28754.33, 118546.05, 172795.67, 'California'],\n",
              "       [27892.92, 84710.77, 164470.71, 'Florida'],\n",
              "       [23640.93, 96189.63, 148001.11, 'California'],\n",
              "       [15505.73, 127382.3, 35534.17, 'New York'],\n",
              "       [22177.74, 154806.14, 28334.72, 'California'],\n",
              "       [1000.23, 124153.04, 1903.93, 'New York'],\n",
              "       [1315.46, 115816.21, 297114.46, 'Florida'],\n",
              "       [0.0, 135426.92, 0.0, 'California'],\n",
              "       [542.05, 51743.15, 0.0, 'New York'],\n",
              "       [0.0, 116983.8, 45173.06, 'California']], dtype=object)"
            ]
          },
          "metadata": {},
          "execution_count": 4
        }
      ]
    },
    {
      "cell_type": "code",
      "source": [
        "y"
      ],
      "metadata": {
        "colab": {
          "base_uri": "https://localhost:8080/"
        },
        "id": "N6r4C-hogpyg",
        "outputId": "e0e21cd7-630b-4d66-adaa-9915eea80098"
      },
      "execution_count": 6,
      "outputs": [
        {
          "output_type": "execute_result",
          "data": {
            "text/plain": [
              "array([192261.83, 191792.06, 191050.39, 182901.99, 166187.94, 156991.12,\n",
              "       156122.51, 155752.6 , 152211.77, 149759.96, 146121.95, 144259.4 ,\n",
              "       141585.52, 134307.35, 132602.65, 129917.04, 126992.93, 125370.37,\n",
              "       124266.9 , 122776.86, 118474.03, 111313.02, 110352.25, 108733.99,\n",
              "       108552.04, 107404.34, 105733.54, 105008.31, 103282.38, 101004.64,\n",
              "        99937.59,  97483.56,  97427.84,  96778.92,  96712.8 ,  96479.51,\n",
              "        90708.19,  89949.14,  81229.06,  81005.76,  78239.91,  77798.83,\n",
              "        71498.49,  69758.98,  65200.33,  64926.08,  49490.75,  42559.73,\n",
              "        35673.41,  14681.4 ])"
            ]
          },
          "metadata": {},
          "execution_count": 6
        }
      ]
    },
    {
      "cell_type": "markdown",
      "metadata": {
        "id": "VadrvE7s_lS9"
      },
      "source": [
        "## カテゴリ変数のエンコーディング"
      ]
    },
    {
      "cell_type": "code",
      "source": [
        "from sklearn.compose import ColumnTransformer\n",
        "from sklearn.preprocessing import OneHotEncoder\n",
        "\n",
        "ct = ColumnTransformer(transformers=[(\"encoder\",  OneHotEncoder(), [3])], remainder=\"passthrough\")\n",
        "X = np.array(ct.fit_transform(X))"
      ],
      "metadata": {
        "id": "4zGZRxkFgelG"
      },
      "execution_count": 7,
      "outputs": []
    },
    {
      "cell_type": "code",
      "source": [
        "# 変換した値が一番最初の列に来る\n",
        "X"
      ],
      "metadata": {
        "colab": {
          "base_uri": "https://localhost:8080/"
        },
        "id": "q4m3n84phwWM",
        "outputId": "7a123361-f37c-4e05-fd51-b6143452c6dc"
      },
      "execution_count": 8,
      "outputs": [
        {
          "output_type": "execute_result",
          "data": {
            "text/plain": [
              "array([[0.0, 0.0, 1.0, 165349.2, 136897.8, 471784.1],\n",
              "       [1.0, 0.0, 0.0, 162597.7, 151377.59, 443898.53],\n",
              "       [0.0, 1.0, 0.0, 153441.51, 101145.55, 407934.54],\n",
              "       [0.0, 0.0, 1.0, 144372.41, 118671.85, 383199.62],\n",
              "       [0.0, 1.0, 0.0, 142107.34, 91391.77, 366168.42],\n",
              "       [0.0, 0.0, 1.0, 131876.9, 99814.71, 362861.36],\n",
              "       [1.0, 0.0, 0.0, 134615.46, 147198.87, 127716.82],\n",
              "       [0.0, 1.0, 0.0, 130298.13, 145530.06, 323876.68],\n",
              "       [0.0, 0.0, 1.0, 120542.52, 148718.95, 311613.29],\n",
              "       [1.0, 0.0, 0.0, 123334.88, 108679.17, 304981.62],\n",
              "       [0.0, 1.0, 0.0, 101913.08, 110594.11, 229160.95],\n",
              "       [1.0, 0.0, 0.0, 100671.96, 91790.61, 249744.55],\n",
              "       [0.0, 1.0, 0.0, 93863.75, 127320.38, 249839.44],\n",
              "       [1.0, 0.0, 0.0, 91992.39, 135495.07, 252664.93],\n",
              "       [0.0, 1.0, 0.0, 119943.24, 156547.42, 256512.92],\n",
              "       [0.0, 0.0, 1.0, 114523.61, 122616.84, 261776.23],\n",
              "       [1.0, 0.0, 0.0, 78013.11, 121597.55, 264346.06],\n",
              "       [0.0, 0.0, 1.0, 94657.16, 145077.58, 282574.31],\n",
              "       [0.0, 1.0, 0.0, 91749.16, 114175.79, 294919.57],\n",
              "       [0.0, 0.0, 1.0, 86419.7, 153514.11, 0.0],\n",
              "       [1.0, 0.0, 0.0, 76253.86, 113867.3, 298664.47],\n",
              "       [0.0, 0.0, 1.0, 78389.47, 153773.43, 299737.29],\n",
              "       [0.0, 1.0, 0.0, 73994.56, 122782.75, 303319.26],\n",
              "       [0.0, 1.0, 0.0, 67532.53, 105751.03, 304768.73],\n",
              "       [0.0, 0.0, 1.0, 77044.01, 99281.34, 140574.81],\n",
              "       [1.0, 0.0, 0.0, 64664.71, 139553.16, 137962.62],\n",
              "       [0.0, 1.0, 0.0, 75328.87, 144135.98, 134050.07],\n",
              "       [0.0, 0.0, 1.0, 72107.6, 127864.55, 353183.81],\n",
              "       [0.0, 1.0, 0.0, 66051.52, 182645.56, 118148.2],\n",
              "       [0.0, 0.0, 1.0, 65605.48, 153032.06, 107138.38],\n",
              "       [0.0, 1.0, 0.0, 61994.48, 115641.28, 91131.24],\n",
              "       [0.0, 0.0, 1.0, 61136.38, 152701.92, 88218.23],\n",
              "       [1.0, 0.0, 0.0, 63408.86, 129219.61, 46085.25],\n",
              "       [0.0, 1.0, 0.0, 55493.95, 103057.49, 214634.81],\n",
              "       [1.0, 0.0, 0.0, 46426.07, 157693.92, 210797.67],\n",
              "       [0.0, 0.0, 1.0, 46014.02, 85047.44, 205517.64],\n",
              "       [0.0, 1.0, 0.0, 28663.76, 127056.21, 201126.82],\n",
              "       [1.0, 0.0, 0.0, 44069.95, 51283.14, 197029.42],\n",
              "       [0.0, 0.0, 1.0, 20229.59, 65947.93, 185265.1],\n",
              "       [1.0, 0.0, 0.0, 38558.51, 82982.09, 174999.3],\n",
              "       [1.0, 0.0, 0.0, 28754.33, 118546.05, 172795.67],\n",
              "       [0.0, 1.0, 0.0, 27892.92, 84710.77, 164470.71],\n",
              "       [1.0, 0.0, 0.0, 23640.93, 96189.63, 148001.11],\n",
              "       [0.0, 0.0, 1.0, 15505.73, 127382.3, 35534.17],\n",
              "       [1.0, 0.0, 0.0, 22177.74, 154806.14, 28334.72],\n",
              "       [0.0, 0.0, 1.0, 1000.23, 124153.04, 1903.93],\n",
              "       [0.0, 1.0, 0.0, 1315.46, 115816.21, 297114.46],\n",
              "       [1.0, 0.0, 0.0, 0.0, 135426.92, 0.0],\n",
              "       [0.0, 0.0, 1.0, 542.05, 51743.15, 0.0],\n",
              "       [1.0, 0.0, 0.0, 0.0, 116983.8, 45173.06]], dtype=object)"
            ]
          },
          "metadata": {},
          "execution_count": 8
        }
      ]
    },
    {
      "cell_type": "markdown",
      "source": [
        "今回のデータは欠損値の対応は必要か？<br>\n",
        "→　研究開発費、広告費がかからない企業である可能性もある"
      ],
      "metadata": {
        "id": "fwr0qbvKiBJG"
      }
    },
    {
      "cell_type": "markdown",
      "metadata": {
        "id": "WemVnqgeA70k"
      },
      "source": [
        "## 訓練用データセットとテスト用データセットへの分割"
      ]
    },
    {
      "cell_type": "code",
      "source": [
        "from sklearn.model_selection import train_test_split\n",
        "X_train, X_test, y_train, y_test = train_test_split(X, y, test_size=0.2, random_state=0)"
      ],
      "metadata": {
        "id": "YfQS8BmujIF9"
      },
      "execution_count": 9,
      "outputs": []
    },
    {
      "cell_type": "code",
      "source": [
        "X_train"
      ],
      "metadata": {
        "colab": {
          "base_uri": "https://localhost:8080/"
        },
        "id": "o8lEeoXjjK5E",
        "outputId": "21cb3c96-a5e2-4a45-813b-9fe4f85ea555"
      },
      "execution_count": 10,
      "outputs": [
        {
          "output_type": "execute_result",
          "data": {
            "text/plain": [
              "array([[0.0, 1.0, 0.0, 55493.95, 103057.49, 214634.81],\n",
              "       [0.0, 0.0, 1.0, 46014.02, 85047.44, 205517.64],\n",
              "       [0.0, 1.0, 0.0, 75328.87, 144135.98, 134050.07],\n",
              "       [1.0, 0.0, 0.0, 46426.07, 157693.92, 210797.67],\n",
              "       [0.0, 1.0, 0.0, 91749.16, 114175.79, 294919.57],\n",
              "       [0.0, 1.0, 0.0, 130298.13, 145530.06, 323876.68],\n",
              "       [0.0, 1.0, 0.0, 119943.24, 156547.42, 256512.92],\n",
              "       [0.0, 0.0, 1.0, 1000.23, 124153.04, 1903.93],\n",
              "       [0.0, 0.0, 1.0, 542.05, 51743.15, 0.0],\n",
              "       [0.0, 0.0, 1.0, 65605.48, 153032.06, 107138.38],\n",
              "       [0.0, 0.0, 1.0, 114523.61, 122616.84, 261776.23],\n",
              "       [0.0, 1.0, 0.0, 61994.48, 115641.28, 91131.24],\n",
              "       [1.0, 0.0, 0.0, 63408.86, 129219.61, 46085.25],\n",
              "       [1.0, 0.0, 0.0, 78013.11, 121597.55, 264346.06],\n",
              "       [1.0, 0.0, 0.0, 23640.93, 96189.63, 148001.11],\n",
              "       [1.0, 0.0, 0.0, 76253.86, 113867.3, 298664.47],\n",
              "       [0.0, 0.0, 1.0, 15505.73, 127382.3, 35534.17],\n",
              "       [0.0, 0.0, 1.0, 120542.52, 148718.95, 311613.29],\n",
              "       [1.0, 0.0, 0.0, 91992.39, 135495.07, 252664.93],\n",
              "       [1.0, 0.0, 0.0, 64664.71, 139553.16, 137962.62],\n",
              "       [0.0, 0.0, 1.0, 131876.9, 99814.71, 362861.36],\n",
              "       [0.0, 0.0, 1.0, 94657.16, 145077.58, 282574.31],\n",
              "       [1.0, 0.0, 0.0, 28754.33, 118546.05, 172795.67],\n",
              "       [1.0, 0.0, 0.0, 0.0, 116983.8, 45173.06],\n",
              "       [1.0, 0.0, 0.0, 162597.7, 151377.59, 443898.53],\n",
              "       [0.0, 1.0, 0.0, 93863.75, 127320.38, 249839.44],\n",
              "       [1.0, 0.0, 0.0, 44069.95, 51283.14, 197029.42],\n",
              "       [0.0, 0.0, 1.0, 77044.01, 99281.34, 140574.81],\n",
              "       [1.0, 0.0, 0.0, 134615.46, 147198.87, 127716.82],\n",
              "       [0.0, 1.0, 0.0, 67532.53, 105751.03, 304768.73],\n",
              "       [0.0, 1.0, 0.0, 28663.76, 127056.21, 201126.82],\n",
              "       [0.0, 0.0, 1.0, 78389.47, 153773.43, 299737.29],\n",
              "       [0.0, 0.0, 1.0, 86419.7, 153514.11, 0.0],\n",
              "       [1.0, 0.0, 0.0, 123334.88, 108679.17, 304981.62],\n",
              "       [1.0, 0.0, 0.0, 38558.51, 82982.09, 174999.3],\n",
              "       [0.0, 1.0, 0.0, 1315.46, 115816.21, 297114.46],\n",
              "       [0.0, 0.0, 1.0, 144372.41, 118671.85, 383199.62],\n",
              "       [0.0, 0.0, 1.0, 165349.2, 136897.8, 471784.1],\n",
              "       [1.0, 0.0, 0.0, 0.0, 135426.92, 0.0],\n",
              "       [1.0, 0.0, 0.0, 22177.74, 154806.14, 28334.72]], dtype=object)"
            ]
          },
          "metadata": {},
          "execution_count": 10
        }
      ]
    },
    {
      "cell_type": "markdown",
      "metadata": {
        "id": "k-McZVsQBINc"
      },
      "source": [
        "## 訓練用データセットを使ったモデルの学習"
      ]
    },
    {
      "cell_type": "code",
      "source": [
        "from sklearn.linear_model import LinearRegression\n",
        "lr = LinearRegression()\n",
        "\n",
        "lr.fit(X_train, y_train)"
      ],
      "metadata": {
        "colab": {
          "base_uri": "https://localhost:8080/"
        },
        "id": "LnxYaivsjTCk",
        "outputId": "d78f8a54-24e6-4bdd-ba8b-1ec6128e80f2"
      },
      "execution_count": 11,
      "outputs": [
        {
          "output_type": "execute_result",
          "data": {
            "text/plain": [
              "LinearRegression()"
            ]
          },
          "metadata": {},
          "execution_count": 11
        }
      ]
    },
    {
      "cell_type": "code",
      "source": [
        "# ダミー変数トラップの対応（Stateの対応）\n",
        "# 本来は対応しないといけないが、sklearn内で処理してくれるので、\n",
        "# 特にコードで明示的に削除する必要はない"
      ],
      "metadata": {
        "id": "x1qW2g5fjhTl"
      },
      "execution_count": null,
      "outputs": []
    },
    {
      "cell_type": "code",
      "source": [
        "# すべての独立変数を使用しているが、P値が大きいものを削除し\n",
        "# モデルをシンプルにする方がよいのでは？\n",
        "# 上記は正しいが、sklearn内でそれも処理してくれるので\n",
        "# コードで明示的に行う必要がない"
      ],
      "metadata": {
        "id": "uCHx3rXxkLsD"
      },
      "execution_count": null,
      "outputs": []
    },
    {
      "cell_type": "markdown",
      "metadata": {
        "id": "xNkXL1YQBiBT"
      },
      "source": [
        "## テストデータセットに対する予測"
      ]
    },
    {
      "cell_type": "code",
      "source": [
        "y_test"
      ],
      "metadata": {
        "colab": {
          "base_uri": "https://localhost:8080/"
        },
        "id": "-pAayb1Ikzu-",
        "outputId": "3016995e-9df6-43de-c770-be67cb26d418"
      },
      "execution_count": 12,
      "outputs": [
        {
          "output_type": "execute_result",
          "data": {
            "text/plain": [
              "array([103282.38, 144259.4 , 146121.95,  77798.83, 191050.39, 105008.31,\n",
              "        81229.06,  97483.56, 110352.25, 166187.94])"
            ]
          },
          "metadata": {},
          "execution_count": 12
        }
      ]
    },
    {
      "cell_type": "code",
      "source": [
        "y_pred = lr.predict(X_test)"
      ],
      "metadata": {
        "id": "GCBkVJL2kua7"
      },
      "execution_count": 13,
      "outputs": []
    },
    {
      "cell_type": "code",
      "source": [
        "y_pred"
      ],
      "metadata": {
        "colab": {
          "base_uri": "https://localhost:8080/"
        },
        "id": "S8ObOxYDk8DQ",
        "outputId": "831e1b68-7084-4de4-e673-56bb6defae73"
      },
      "execution_count": 14,
      "outputs": [
        {
          "output_type": "execute_result",
          "data": {
            "text/plain": [
              "array([103015.20159795, 132582.27760816, 132447.73845175,  71976.09851258,\n",
              "       178537.48221057, 116161.24230167,  67851.69209676,  98791.73374687,\n",
              "       113969.43533014, 167921.06569552])"
            ]
          },
          "metadata": {},
          "execution_count": 14
        }
      ]
    },
    {
      "cell_type": "code",
      "source": [
        "# 性能評価用\n",
        "# from sklearn import metrics\n",
        "# metrics.accuracy_score(y_test, y_pred)\n",
        "# 線形回帰には上記はサポートされていない？\n",
        "# No metrics support \"multiclass-multioutput\" format\n",
        "# ValueError: continuous is not supported"
      ],
      "metadata": {
        "id": "q1dvJdeVlzCH"
      },
      "execution_count": 17,
      "outputs": []
    },
    {
      "cell_type": "code",
      "source": [
        "# 小数点の桁を合わせる(有効桁数2)\n",
        "np.set_printoptions(precision=2)\n",
        "# 行列を結合(行ベクトルと列ベクトルに変換して結合)\n",
        "np.concatenate((y_pred.reshape(len(y_pred), 1), y_test.reshape(len(y_test), 1)), 1)"
      ],
      "metadata": {
        "colab": {
          "base_uri": "https://localhost:8080/"
        },
        "id": "UqGP9qd8k9Bx",
        "outputId": "1f4b1004-88fd-4129-ad0b-a6427ac4db27"
      },
      "execution_count": 19,
      "outputs": [
        {
          "output_type": "execute_result",
          "data": {
            "text/plain": [
              "array([[103015.2 , 103282.38],\n",
              "       [132582.28, 144259.4 ],\n",
              "       [132447.74, 146121.95],\n",
              "       [ 71976.1 ,  77798.83],\n",
              "       [178537.48, 191050.39],\n",
              "       [116161.24, 105008.31],\n",
              "       [ 67851.69,  81229.06],\n",
              "       [ 98791.73,  97483.56],\n",
              "       [113969.44, 110352.25],\n",
              "       [167921.07, 166187.94]])"
            ]
          },
          "metadata": {},
          "execution_count": 19
        }
      ]
    },
    {
      "cell_type": "code",
      "source": [],
      "metadata": {
        "id": "KKzWSOvpnoc3"
      },
      "execution_count": null,
      "outputs": []
    },
    {
      "cell_type": "markdown",
      "source": [
        "Pythonで実装をする中では、変数減少法の実装方法について理解している必要はありません。\n",
        "\n",
        "なぜなら、scikitlearnが内部での演算を通じて重要な変数だけを抽出してくれるからです。"
      ],
      "metadata": {
        "id": "p8yBmQq4pHhA"
      }
    },
    {
      "cell_type": "markdown",
      "source": [
        "**変数減少法について実装**\n",
        "\n",
        "    # ライブラリのインポート\n",
        "     \n",
        "    import numpy as np\n",
        "    import matplotlib.pyplot as plt\n",
        "    import pandas as pd\n",
        "     \n",
        "     \n",
        "     \n",
        "    # データセットのインポート\n",
        "    dataset = pd.read_csv('50_Startups.csv')\n",
        "    X = dataset.iloc[:, :-1].values\n",
        "    y = dataset.iloc[:, -1].values\n",
        "    print(X)\n",
        "     \n",
        "     \n",
        "     \n",
        "    # カテゴリ変数のエンコーディング\n",
        "    from sklearn.compose import ColumnTransformer\n",
        "    from sklearn.preprocessing import OneHotEncoder\n",
        "    ct = ColumnTransformer(transformers=[('encoder', OneHotEncoder(), [3])], remainder='passthrough')\n",
        "    X = np.array(ct.fit_transform(X))\n",
        "    print(X)\n",
        "     \n",
        "     \n",
        "     \n",
        "    # ダミー変数トラップを避けるためのコード\n",
        "    X = X[:, 1:]\n",
        "      \n",
        "    # 訓練用とテスト用へのデータセットの分割\n",
        "    from sklearn.model_selection import train_test_split\n",
        "    X_train, X_test, y_train, y_test = train_test_split(X, y, test_size = 0.2, random_state = 0)\n",
        "     \n",
        "\n",
        "    # 訓練用データセットを使った重回帰モデルの訓練\n",
        "    from sklearn.linear_model import LinearRegression\n",
        "    regressor = LinearRegression()\n",
        "    regressor.fit(X_train, y_train)\n",
        "     \n",
        "    # テスト用データを使った結果の予測\n",
        "    y_pred = regressor.predict(X_test)\n",
        "    np.set_printoptions(precision=2)\n",
        "    print(np.concatenate((y_pred.reshape(len(y_pred),1), y_test.reshape(len(y_test),1)),1))\n",
        "     \n",
        "    # 変数減少法を使った変数の抽出\n",
        "    import statsmodels.api as sm\n",
        "    X = np.append(arr = np.ones((50, 1)).astype(int), values = X, axis = 1)\n",
        "    X_opt = X[:, [0, 1, 2, 3, 4, 5]]\n",
        "    X_opt = X_opt.astype(np.float64)\n",
        "    regressor_OLS = sm.OLS(endog = y, exog = X_opt).fit()\n",
        "    regressor_OLS.summary()\n",
        "     \n",
        "    X_opt = X[:, [0, 1, 3, 4, 5]]\n",
        "    X_opt = X_opt.astype(np.float64)\n",
        "     \n",
        "    regressor_OLS = sm.OLS(endog = y, exog = X_opt).fit()\n",
        "    regressor_OLS.summary()\n",
        "     \n",
        "    X_opt = X[:, [0, 3, 4, 5] \n",
        "    X_opt = X_opt.astype(np.float64)\n",
        "     \n",
        "    regressor_OLS = sm.OLS(endog = y, exog = X_opt).fit()\n",
        "    regressor_OLS.summary()X_opt = X[:, [0, 3, 5]]\n",
        "    X_opt = X_opt.astype(np.float64)\n",
        "     \n",
        "    regressor_OLS = sm.OLS(endog = y, exog = X_opt).fit()\n",
        "    regressor_OLS.summary()\n",
        "     \n",
        "    X_opt = X[:, [0, 3]]\n",
        "    X_opt = X_opt.astype(np.float64)\n",
        "    regressor_OLS = sm.OLS(endog = y, exog = X_opt).fit()\n",
        "    regressor_OLS.summary()"
      ],
      "metadata": {
        "id": "emTjKAEcoZDX"
      }
    },
    {
      "cell_type": "code",
      "source": [],
      "metadata": {
        "id": "cFE00S2oogJU"
      },
      "execution_count": null,
      "outputs": []
    }
  ]
}