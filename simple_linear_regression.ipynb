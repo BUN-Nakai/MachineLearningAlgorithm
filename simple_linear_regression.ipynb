{
  "nbformat": 4,
  "nbformat_minor": 0,
  "metadata": {
    "colab": {
      "provenance": [],
      "collapsed_sections": [],
      "include_colab_link": true
    },
    "kernelspec": {
      "display_name": "Python 3",
      "language": "python",
      "name": "python3"
    },
    "language_info": {
      "codemirror_mode": {
        "name": "ipython",
        "version": 3
      },
      "file_extension": ".py",
      "mimetype": "text/x-python",
      "name": "python",
      "nbconvert_exporter": "python",
      "pygments_lexer": "ipython3",
      "version": "3.7.6"
    }
  },
  "cells": [
    {
      "cell_type": "markdown",
      "metadata": {
        "id": "view-in-github",
        "colab_type": "text"
      },
      "source": [
        "<a href=\"https://colab.research.google.com/github/BUN-Nakai/MachineLearningAlgorithm/blob/main/simple_linear_regression.ipynb\" target=\"_parent\"><img src=\"https://colab.research.google.com/assets/colab-badge.svg\" alt=\"Open In Colab\"/></a>"
      ]
    },
    {
      "cell_type": "markdown",
      "metadata": {
        "id": "l_LulNCC8z96"
      },
      "source": [
        "# 単回帰分析"
      ]
    },
    {
      "cell_type": "markdown",
      "metadata": {
        "id": "xpXdowrE9DxW"
      },
      "source": [
        "## ライブラリのインポート"
      ]
    },
    {
      "cell_type": "code",
      "source": [
        "import numpy as np\n",
        "import matplotlib.pyplot as plt\n",
        "import pandas as pd"
      ],
      "metadata": {
        "id": "O8X2EP2748-f"
      },
      "execution_count": 2,
      "outputs": []
    },
    {
      "cell_type": "markdown",
      "metadata": {
        "id": "6JhpWJi59J1p"
      },
      "source": [
        "## データセットのインポート"
      ]
    },
    {
      "cell_type": "code",
      "source": [
        "dataset = pd.read_csv(\"Salary_Data.csv\")\n",
        "# numpyのarrayにするため、valuesが必要\n",
        "X = dataset.iloc[:, :-1].values\n",
        "y = dataset.iloc[:, -1].values"
      ],
      "metadata": {
        "id": "fpNEGXkl5eAE"
      },
      "execution_count": 6,
      "outputs": []
    },
    {
      "cell_type": "code",
      "source": [
        "X"
      ],
      "metadata": {
        "colab": {
          "base_uri": "https://localhost:8080/"
        },
        "id": "lvbrjDv65wzQ",
        "outputId": "a09481b8-76ed-49cd-81e1-1681ef852639"
      },
      "execution_count": 7,
      "outputs": [
        {
          "output_type": "execute_result",
          "data": {
            "text/plain": [
              "array([[ 1.1],\n",
              "       [ 1.3],\n",
              "       [ 1.5],\n",
              "       [ 2. ],\n",
              "       [ 2.2],\n",
              "       [ 2.9],\n",
              "       [ 3. ],\n",
              "       [ 3.2],\n",
              "       [ 3.2],\n",
              "       [ 3.7],\n",
              "       [ 3.9],\n",
              "       [ 4. ],\n",
              "       [ 4. ],\n",
              "       [ 4.1],\n",
              "       [ 4.5],\n",
              "       [ 4.9],\n",
              "       [ 5.1],\n",
              "       [ 5.3],\n",
              "       [ 5.9],\n",
              "       [ 6. ],\n",
              "       [ 6.8],\n",
              "       [ 7.1],\n",
              "       [ 7.9],\n",
              "       [ 8.2],\n",
              "       [ 8.7],\n",
              "       [ 9. ],\n",
              "       [ 9.5],\n",
              "       [ 9.6],\n",
              "       [10.3],\n",
              "       [10.5]])"
            ]
          },
          "metadata": {},
          "execution_count": 7
        }
      ]
    },
    {
      "cell_type": "code",
      "source": [
        "y"
      ],
      "metadata": {
        "colab": {
          "base_uri": "https://localhost:8080/"
        },
        "id": "syfLDyE-5zav",
        "outputId": "013c1796-1bad-492e-b178-ca1b04077b1b"
      },
      "execution_count": 8,
      "outputs": [
        {
          "output_type": "execute_result",
          "data": {
            "text/plain": [
              "array([ 39343.,  46205.,  37731.,  43525.,  39891.,  56642.,  60150.,\n",
              "        54445.,  64445.,  57189.,  63218.,  55794.,  56957.,  57081.,\n",
              "        61111.,  67938.,  66029.,  83088.,  81363.,  93940.,  91738.,\n",
              "        98273., 101302., 113812., 109431., 105582., 116969., 112635.,\n",
              "       122391., 121872.])"
            ]
          },
          "metadata": {},
          "execution_count": 8
        }
      ]
    },
    {
      "cell_type": "markdown",
      "metadata": {
        "id": "AyhQaTwP9RzG"
      },
      "source": [
        "## 訓練用データセットとテスト用データセットへの分割"
      ]
    },
    {
      "cell_type": "code",
      "source": [
        "# 欠損値、カテゴリ変数がないので、そのまま分割\n",
        "from sklearn.model_selection import train_test_split\n",
        "X_train, X_test, y_train, y_test = train_test_split(X, y, test_size=1/3, random_state=0)"
      ],
      "metadata": {
        "id": "jPzHf18i6CaF"
      },
      "execution_count": 9,
      "outputs": []
    },
    {
      "cell_type": "code",
      "source": [
        "X_train"
      ],
      "metadata": {
        "colab": {
          "base_uri": "https://localhost:8080/"
        },
        "id": "UfJYQ0W96r72",
        "outputId": "00c903d8-35e1-4187-d581-e36756ab85c4"
      },
      "execution_count": 11,
      "outputs": [
        {
          "output_type": "execute_result",
          "data": {
            "text/plain": [
              "array([[ 2.9],\n",
              "       [ 5.1],\n",
              "       [ 3.2],\n",
              "       [ 4.5],\n",
              "       [ 8.2],\n",
              "       [ 6.8],\n",
              "       [ 1.3],\n",
              "       [10.5],\n",
              "       [ 3. ],\n",
              "       [ 2.2],\n",
              "       [ 5.9],\n",
              "       [ 6. ],\n",
              "       [ 3.7],\n",
              "       [ 3.2],\n",
              "       [ 9. ],\n",
              "       [ 2. ],\n",
              "       [ 1.1],\n",
              "       [ 7.1],\n",
              "       [ 4.9],\n",
              "       [ 4. ]])"
            ]
          },
          "metadata": {},
          "execution_count": 11
        }
      ]
    },
    {
      "cell_type": "code",
      "source": [
        "X_test"
      ],
      "metadata": {
        "colab": {
          "base_uri": "https://localhost:8080/"
        },
        "id": "VJHBb8Mw6v2a",
        "outputId": "74211605-85af-43a5-dd13-237fe49b70db"
      },
      "execution_count": 12,
      "outputs": [
        {
          "output_type": "execute_result",
          "data": {
            "text/plain": [
              "array([[ 1.5],\n",
              "       [10.3],\n",
              "       [ 4.1],\n",
              "       [ 3.9],\n",
              "       [ 9.5],\n",
              "       [ 8.7],\n",
              "       [ 9.6],\n",
              "       [ 4. ],\n",
              "       [ 5.3],\n",
              "       [ 7.9]])"
            ]
          },
          "metadata": {},
          "execution_count": 12
        }
      ]
    },
    {
      "cell_type": "markdown",
      "metadata": {
        "id": "ZijQwFMQ9itx"
      },
      "source": [
        "## 訓練用データセットを使った学習"
      ]
    },
    {
      "cell_type": "code",
      "source": [
        "# 回帰用ライブラリ\n",
        "from sklearn.linear_model import LinearRegression\n",
        "# 単回帰分析では特にモデルに引数なし\n",
        "lr = LinearRegression()\n",
        "# 最小二乗法で傾きと切片を求める(transformは必要ないので行わない)\n",
        "lr.fit(X_train, y_train)"
      ],
      "metadata": {
        "colab": {
          "base_uri": "https://localhost:8080/"
        },
        "id": "XwTCBkdE6zCi",
        "outputId": "9926a20c-8263-4a6f-ea24-d9f1dc9dbc5e"
      },
      "execution_count": 13,
      "outputs": [
        {
          "output_type": "execute_result",
          "data": {
            "text/plain": [
              "LinearRegression()"
            ]
          },
          "metadata": {},
          "execution_count": 13
        }
      ]
    },
    {
      "cell_type": "markdown",
      "metadata": {
        "id": "wa2T1Lq89o5H"
      },
      "source": [
        "## テストデータでの結果の予想"
      ]
    },
    {
      "cell_type": "code",
      "source": [
        "# テストデータで予測\n",
        "y_pred = lr.predict(X_test)\n",
        "y_pred"
      ],
      "metadata": {
        "colab": {
          "base_uri": "https://localhost:8080/"
        },
        "id": "vTy6gkgI7nQS",
        "outputId": "585de09f-0c82-45b1-e53a-e6de083e89fa"
      },
      "execution_count": 14,
      "outputs": [
        {
          "output_type": "execute_result",
          "data": {
            "text/plain": [
              "array([ 40835.10590871, 123079.39940819,  65134.55626083,  63265.36777221,\n",
              "       115602.64545369, 108125.8914992 , 116537.23969801,  64199.96201652,\n",
              "        76349.68719258, 100649.1375447 ])"
            ]
          },
          "metadata": {},
          "execution_count": 14
        }
      ]
    },
    {
      "cell_type": "code",
      "source": [
        "X_test"
      ],
      "metadata": {
        "colab": {
          "base_uri": "https://localhost:8080/"
        },
        "id": "23vjBPRz77_q",
        "outputId": "54327714-7996-472b-ed54-4d1ada7087a1"
      },
      "execution_count": 15,
      "outputs": [
        {
          "output_type": "execute_result",
          "data": {
            "text/plain": [
              "array([[ 1.5],\n",
              "       [10.3],\n",
              "       [ 4.1],\n",
              "       [ 3.9],\n",
              "       [ 9.5],\n",
              "       [ 8.7],\n",
              "       [ 9.6],\n",
              "       [ 4. ],\n",
              "       [ 5.3],\n",
              "       [ 7.9]])"
            ]
          },
          "metadata": {},
          "execution_count": 15
        }
      ]
    },
    {
      "cell_type": "markdown",
      "metadata": {
        "id": "-zSoMZ-P9v8t"
      },
      "source": [
        "## 結果の可視化"
      ]
    },
    {
      "cell_type": "code",
      "source": [
        "# 散布図の描画(実データの散布図)\n",
        "plt.scatter(X_train, y_train, color=\"red\")\n",
        "# 予想した最小二乗法で求めた直線の描画\n",
        "plt.plot(X_train, lr.predict(X_train), color=\"blue\")\n",
        "# X軸のラベル\n",
        "plt.xlabel(\"Years of experience\")\n",
        "# Y軸のラベル\n",
        "plt.ylabel(\"Salary\")\n",
        "\n",
        "plt.show()"
      ],
      "metadata": {
        "colab": {
          "base_uri": "https://localhost:8080/",
          "height": 279
        },
        "id": "kX0lBaWy8FaH",
        "outputId": "a69f9837-4701-44f5-ebfb-0a724dd3abc7"
      },
      "execution_count": 20,
      "outputs": [
        {
          "output_type": "display_data",
          "data": {
            "text/plain": [
              "<Figure size 432x288 with 1 Axes>"
            ],
            "image/png": "[encoded data removed]"
          },
          "metadata": {
            "needs_background": "light"
          }
        }
      ]
    },
    {
      "cell_type": "markdown",
      "metadata": {
        "id": "EUX1Vhsv97ZT"
      },
      "source": [
        "## テストデータの結果の可視化"
      ]
    },
    {
      "cell_type": "code",
      "metadata": {
        "id": "gYQkuj5V7Oj-",
        "colab": {
          "base_uri": "https://localhost:8080/",
          "height": 279
        },
        "outputId": "3990b325-1d00-45a3-e10e-19b86986d89e"
      },
      "source": [
        "# 予想した最小二乗法で求めた直線の描画\n",
        "plt.plot(X_train, lr.predict(X_train), color=\"blue\")\n",
        "# テスト用(検証用」）データの描画\n",
        "plt.scatter(X_test, y_test, color=\"red\")\n",
        "\n",
        "# X軸のラベル\n",
        "plt.xlabel(\"Years of experience\")\n",
        "# Y軸のラベル\n",
        "plt.ylabel(\"Salary\")\n",
        "\n",
        "plt.show()"
      ],
      "execution_count": 22,
      "outputs": [
        {
          "output_type": "display_data",
          "data": {
            "text/plain": [
              "<Figure size 432x288 with 1 Axes>"
            ],
            "image/png": "[encoded data removed]"
          },
          "metadata": {
            "needs_background": "light"
          }
        }
      ]
    },
    {
      "cell_type": "code",
      "source": [],
      "metadata": {
        "id": "j0njgM5J_mBv"
      },
      "execution_count": null,
      "outputs": []
    }
  ]
}